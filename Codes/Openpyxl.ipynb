{
 "metadata": {
  "language_info": {
   "codemirror_mode": {
    "name": "ipython",
    "version": 3
   },
   "file_extension": ".py",
   "mimetype": "text/x-python",
   "name": "python",
   "nbconvert_exporter": "python",
   "pygments_lexer": "ipython3",
   "version": "3.8.5"
  },
  "orig_nbformat": 2,
  "kernelspec": {
   "name": "python385jvsc74a57bd03f800561dde6209f0c647b1ec24b295364b37801e2a63d392a491285ef4d5a88",
   "display_name": "Python 3.8.5 64-bit ('base': conda)"
  }
 },
 "nbformat": 4,
 "nbformat_minor": 2,
 "cells": [
  {
   "cell_type": "code",
   "execution_count": 2,
   "metadata": {},
   "outputs": [],
   "source": [
    "from openpyxl import Workbook, load_workbook\n",
    "from openpyxl.styles import Font\n",
    "\n",
    "wb = Workbook()\n",
    "sheet = wb.active  \n",
    "\n",
    "\n",
    "sheet['A1'] = 'Rango'\n",
    "sheet['A1'].font = Font(color='3D33FF',bold=True)\n",
    "for i in range(2,101):\n",
    "    sheet[f'A{i}'] = i+1\n",
    "\n",
    "sheet['B1'] = 'Nombre'\n",
    "sheet['B1'].font = Font(color='3D33FF',bold=True) \n",
    "for i in range(2,101):\n",
    "    sheet[f'B{i}'] = i*2\n",
    "\n",
    "\n",
    "wb.save('Prueba.xlsx')\n"
   ]
  },
  {
   "cell_type": "code",
   "execution_count": null,
   "metadata": {},
   "outputs": [],
   "source": []
  }
 ]
}