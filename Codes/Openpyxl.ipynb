{
 "metadata": {
  "language_info": {
   "codemirror_mode": {
    "name": "ipython",
    "version": 3
   },
   "file_extension": ".py",
   "mimetype": "text/x-python",
   "name": "python",
   "nbconvert_exporter": "python",
   "pygments_lexer": "ipython3",
   "version": "3.8.5"
  },
  "orig_nbformat": 2,
  "kernelspec": {
   "name": "python385jvsc74a57bd03f800561dde6209f0c647b1ec24b295364b37801e2a63d392a491285ef4d5a88",
   "display_name": "Python 3.8.5 64-bit ('base': conda)"
  }
 },
 "nbformat": 4,
 "nbformat_minor": 2,
 "cells": [
  {
   "cell_type": "code",
   "execution_count": 62,
   "metadata": {},
   "outputs": [],
   "source": [
    "from openpyxl import Workbook, load_workbook\n",
    "from openpyxl.styles import Font\n",
    "\n",
    "wb = Workbook()\n",
    "sheet = wb.active  \n",
    "sheet2 = wb.active\n",
    "sheet.title = 'Nueva hoja'\n",
    "sheet2 = wb.create_sheet('Hoja dos')\n",
    "\n",
    "\n",
    "sheet['A1'] = 'Rango'\n",
    "sheet['A1'].font = Font(color='3D33FF',bold=True)\n",
    "for i in range(2,101):\n",
    "    sheet[f'A{i}'] = i+1\n",
    "\n",
    "sheet['B1'] = 'Nombre'\n",
    "sheet['B1'].font = Font(color='3D33FF',bold=True) \n",
    "for i in range(2,101):\n",
    "    sheet[f'B{i}'] = i*2\n",
    "\n",
    "\n",
    "sheet2['A1'] = 'Rango'\n",
    "sheet2['A1'].font = Font(color='3D33FF',bold=True)\n",
    "for j in range(2,101):\n",
    "    sheet2[f'A{i}'] = i+1\n",
    "\n",
    "sheet2['B1'] = 'Nombre'\n",
    "sheet2['B1'].font = Font(color='3d33ff', bold=True)\n",
    "for x in range(2,101):\n",
    "    for y in range(2,11):\n",
    "        sheet2.cell(row=x,column=y)\n",
    "\n",
    "\n",
    "wb.save('Prueba.xlsx')\n"
   ]
  },
  {
   "cell_type": "code",
   "execution_count": 63,
   "metadata": {},
   "outputs": [
    {
     "output_type": "stream",
     "name": "stdout",
     "text": [
      "['Nueva hoja', 'Hoja dos']\n"
     ]
    }
   ],
   "source": [
    "print(wb.sheetnames)"
   ]
  },
  {
   "cell_type": "code",
   "execution_count": null,
   "metadata": {},
   "outputs": [],
   "source": []
  }
 ]
}